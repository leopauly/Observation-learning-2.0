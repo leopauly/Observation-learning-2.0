{
 "cells": [
  {
   "cell_type": "markdown",
   "metadata": {},
   "source": [
    "### Using Pre-trained CNN network for audio classification \n",
    "#### Written by : Leo pauly | leopauly314@gmail.com"
   ]
  },
  {
   "cell_type": "code",
   "execution_count": 1,
   "metadata": {},
   "outputs": [
    {
     "name": "stderr",
     "output_type": "stream",
     "text": [
      "Using TensorFlow backend.\n"
     ]
    }
   ],
   "source": [
    "from __future__ import print_function\n",
    "\n",
    "import matplotlib.pyplot as plt\n",
    "import pickle\n",
    "import itertools\n",
    "import numpy as np\n",
    "\n",
    "import keras\n",
    "from keras.models import model_from_json\n",
    "from keras.optimizers import SGD\n",
    "from sklearn.metrics import confusion_matrix,accuracy_score,classification_report"
   ]
  },
  {
   "cell_type": "code",
   "execution_count": 2,
   "metadata": {
    "collapsed": true
   },
   "outputs": [],
   "source": [
    "CLASSES = [\"AC\", \"CH\", \"CP\", \"DB\", \"Dr\", \"EI\", \"GS\", \"Ja\", \"Si\", \"SM\"]\n",
    "np.random.seed(1337)  # for reproducibility"
   ]
  },
  {
   "cell_type": "code",
   "execution_count": 3,
   "metadata": {
    "collapsed": true
   },
   "outputs": [],
   "source": [
    "## Plotting confusion matrix\n",
    "def plot_confusion_matrix(cm, classes,normalize=False,title='Confusion matrix',cmap=plt.cm.Blues):\n",
    "    \"\"\"\n",
    "    This function prints and plots the confusion matrix.\n",
    "    Normalization can be applied by setting `normalize=True`.\n",
    "    \"\"\"\n",
    "    plt.imshow(cm, interpolation='nearest', cmap=cmap)\n",
    "    plt.title(title)\n",
    "    plt.colorbar()\n",
    "    tick_marks = np.arange(len(classes))\n",
    "    plt.xticks(tick_marks, classes, rotation=45)\n",
    "    plt.yticks(tick_marks, classes)\n",
    "\n",
    "    if normalize:\n",
    "        cm = cm.astype('float') / cm.sum(axis=1)[:, np.newaxis]\n",
    "        print(\"Normalized confusion matrix\")\n",
    "    else:\n",
    "        print('Confusion matrix, without normalization')\n",
    "\n",
    "    thresh = cm.max() / 2.\n",
    "    for i, j in itertools.product(range(cm.shape[0]), range(cm.shape[1])):\n",
    "        plt.text(j, i, cm[i, j],\n",
    "                 horizontalalignment=\"center\",\n",
    "                 color=\"white\" if cm[i, j] > thresh else \"black\")\n",
    "\n",
    "    plt.tight_layout()\n",
    "    plt.ylabel('True label')\n",
    "    plt.xlabel('Predicted label')\n",
    "    plt.show()"
   ]
  },
  {
   "cell_type": "code",
   "execution_count": 4,
   "metadata": {},
   "outputs": [
    {
     "name": "stdout",
     "output_type": "stream",
     "text": [
      "Pretrained audio classifier model loaded!\n"
     ]
    }
   ],
   "source": [
    "## Loading model\n",
    "json_file = open(\"/nobackup/leopauly/S2LStage2/logdir_0/audio_classifier_mfcc_1.json\", 'r')\n",
    "#json_file = open(\"/nobackup/leopauly/S2LStage2/model.keras.json\", 'r')\n",
    "loaded_model_json = json_file.read()\n",
    "json_file.close()\n",
    "loaded_model = model_from_json(loaded_model_json)\n",
    "loaded_model.load_weights(\"/nobackup/leopauly/S2LStage2/logdir_0/audio_classifier_mfcc_1.h5\")\n",
    "#loaded_model.load_weights(\"/nobackup/leopauly/S2LStage2/model.keras.h5\")\n",
    "\n",
    "sgd = SGD(lr=0.01, decay=1e-6, momentum=0.9, nesterov=True)\n",
    "loaded_model.compile(loss='sparse_categorical_crossentropy',optimizer='adadelta',metrics=['accuracy'])\n",
    "print('Pretrained audio classifier model loaded!')"
   ]
  },
  {
   "cell_type": "code",
   "execution_count": 5,
   "metadata": {},
   "outputs": [
    {
     "name": "stdout",
     "output_type": "stream",
     "text": [
      "Start loading data\n",
      "Data loaded\n"
     ]
    }
   ],
   "source": [
    "## Getting data\n",
    "print(\"Start loading data\")\n",
    "\n",
    "#fd = open(\"/nobackup/leopauly/UrabanSound8k_Stored_mfcc/data_x_librosa_train_1.pkl\", 'rb')\n",
    "#fd2 = open(\"/nobackup/leopauly/UrabanSound8k_Stored_mfcc/data_y_librosa_train_1.pkl\", 'rb')\n",
    "\n",
    "fd = open(\"/nobackup/leopauly/UrabanSound8k_Stored_mfcc/data_x_librosa_train_1.pkl\", 'rb')\n",
    "fd2 = open(\"/nobackup/leopauly/UrabanSound8k_Stored_mfcc/data_y_librosa_train_1.pkl\", 'rb')\n",
    "\n",
    "features = pickle.load(fd,encoding='bytes')\n",
    "labels = pickle.load(fd2,encoding='bytes')\n",
    "\n",
    "print(\"Data loaded\")\n",
    "\n",
    "p_train = 0.8\n",
    "\n",
    "rnd_indices = np.random.rand(len(labels)) < p_train\n",
    "\n",
    "X_train = features[rnd_indices]\n",
    "Y_train = labels[rnd_indices]\n",
    "X_test = features[~rnd_indices]\n",
    "Y_test = labels[~rnd_indices]"
   ]
  },
  {
   "cell_type": "code",
   "execution_count": 6,
   "metadata": {
    "collapsed": true
   },
   "outputs": [],
   "source": [
    "X_train = X_train.astype('float32')\n",
    "X_test = X_test.astype('float32')\n",
    "X_train /= 255\n",
    "X_test /= 255\n",
    "\n",
    "\n",
    "## FIX FOR KERAS\n",
    "# Y_train = Y_train.reshape((-1, 1))\n",
    "Y_test = Y_test.reshape((-1, 1))"
   ]
  },
  {
   "cell_type": "code",
   "execution_count": null,
   "metadata": {
    "collapsed": true
   },
   "outputs": [],
   "source": []
  },
  {
   "cell_type": "code",
   "execution_count": 7,
   "metadata": {},
   "outputs": [
    {
     "name": "stdout",
     "output_type": "stream",
     "text": [
      "[ True  True  True ...,  True  True False]\n",
      "[5 5 5 ..., 2 2 2]\n"
     ]
    }
   ],
   "source": [
    "rnd_indices = np.random.rand(len(labels)) < p_train\n",
    "print(rnd_indices)\n",
    "print(Y_train)"
   ]
  },
  {
   "cell_type": "code",
   "execution_count": 8,
   "metadata": {},
   "outputs": [
    {
     "name": "stdout",
     "output_type": "stream",
     "text": [
      "10656/11022 [============================>.] - ETA: 0sConfusion matrix, without normalization\n"
     ]
    },
    {
     "data": {
      "image/png": "[encoded data removed]",
      "text/plain": [
       "<matplotlib.figure.Figure at 0x2adf5a1493c8>"
      ]
     },
     "metadata": {},
     "output_type": "display_data"
    },
    {
     "name": "stdout",
     "output_type": "stream",
     "text": [
      "Got Predictions:  11022\n",
      "Result:  8938  on  11022  ->  0.8109236073307929\n"
     ]
    }
   ],
   "source": [
    "## FIX FOR KERAS\n",
    "# labels = labels.reshape((-1, 1))\n",
    "\n",
    "## Prediction\n",
    "predictions = loaded_model.predict_classes(X_test)\n",
    "\n",
    "plot_confusion_matrix( cm=confusion_matrix(Y_test, predictions) , classes=CLASSES)\n",
    "\n",
    "right = 0\n",
    "total = 0\n",
    "\n",
    "for idx in range(len(predictions)):\n",
    "    if (predictions[idx] == Y_test[idx]):\n",
    "        right += 1\n",
    "    total += 1\n",
    "\n",
    "## Decode and display prediction\n",
    "print(\"Got Predictions: \", len(predictions))\n",
    "\n",
    "print (\"Result: \", str(right), \" on \", str(total), \" -> \", str( ( (right * 1.0) / total ) ))\n"
   ]
  },
  {
   "cell_type": "code",
   "execution_count": 9,
   "metadata": {},
   "outputs": [
    {
     "data": {
      "text/plain": [
       "0.81092360733079294"
      ]
     },
     "execution_count": 9,
     "metadata": {},
     "output_type": "execute_result"
    }
   ],
   "source": [
    "accuracy_score(Y_test, predictions, normalize=True, sample_weight=None)"
   ]
  },
  {
   "cell_type": "raw",
   "metadata": {
    "collapsed": true
   },
   "source": [
    "predictions = loaded_model.predict_classes(X_test)\n",
    "confusion_matrix(Y_test, predictions)"
   ]
  },
  {
   "cell_type": "code",
   "execution_count": 10,
   "metadata": {
    "scrolled": true
   },
   "outputs": [
    {
     "name": "stdout",
     "output_type": "stream",
     "text": [
      "             precision    recall  f1-score   support\n",
      "\n",
      "          0       0.81      0.87      0.84      1423\n",
      "          1       0.98      0.79      0.88       363\n",
      "          2       0.81      0.65      0.72      1375\n",
      "          3       0.90      0.68      0.78      1093\n",
      "          4       0.94      0.70      0.81      1199\n",
      "          5       0.94      0.77      0.84      1410\n",
      "          6       0.90      0.83      0.86       175\n",
      "          7       0.81      0.92      0.87      1267\n",
      "          8       0.77      0.96      0.86      1311\n",
      "          9       0.64      0.90      0.75      1406\n",
      "\n",
      "avg / total       0.83      0.81      0.81     11022\n",
      "\n"
     ]
    }
   ],
   "source": [
    "print(classification_report(Y_test, predictions))"
   ]
  },
  {
   "cell_type": "code",
   "execution_count": 15,
   "metadata": {},
   "outputs": [
    {
     "name": "stdout",
     "output_type": "stream",
     "text": [
      "10688/11022 [============================>.] - ETA: 0s"
     ]
    },
    {
     "ename": "IndexError",
     "evalue": "invalid index to scalar variable.",
     "output_type": "error",
     "traceback": [
      "\u001b[0;31m---------------------------------------------------------------------------\u001b[0m",
      "\u001b[0;31mIndexError\u001b[0m                                Traceback (most recent call last)",
      "\u001b[0;32m<ipython-input-15-4eba89924cef>\u001b[0m in \u001b[0;36m<module>\u001b[0;34m()\u001b[0m\n\u001b[1;32m      1\u001b[0m \u001b[0mscore\u001b[0m\u001b[0;34m,\u001b[0m\u001b[0m_\u001b[0m \u001b[0;34m=\u001b[0m \u001b[0mloaded_model\u001b[0m\u001b[0;34m.\u001b[0m\u001b[0mevaluate\u001b[0m\u001b[0;34m(\u001b[0m\u001b[0mX_test\u001b[0m\u001b[0;34m,\u001b[0m \u001b[0mY_test\u001b[0m\u001b[0;34m,\u001b[0m \u001b[0mverbose\u001b[0m\u001b[0;34m=\u001b[0m\u001b[0;36m1\u001b[0m\u001b[0;34m)\u001b[0m\u001b[0;34m\u001b[0m\u001b[0m\n\u001b[0;32m----> 2\u001b[0;31m \u001b[0mprint\u001b[0m\u001b[0;34m(\u001b[0m\u001b[0;34m'Test score:'\u001b[0m\u001b[0;34m,\u001b[0m \u001b[0mscore\u001b[0m\u001b[0;34m[\u001b[0m\u001b[0;36m0\u001b[0m\u001b[0;34m]\u001b[0m\u001b[0;34m)\u001b[0m\u001b[0;34m\u001b[0m\u001b[0m\n\u001b[0m\u001b[1;32m      3\u001b[0m \u001b[0mprint\u001b[0m\u001b[0;34m(\u001b[0m\u001b[0;34m'Test accuracy:'\u001b[0m\u001b[0;34m,\u001b[0m \u001b[0mscore\u001b[0m\u001b[0;34m[\u001b[0m\u001b[0;36m1\u001b[0m\u001b[0;34m]\u001b[0m\u001b[0;34m)\u001b[0m\u001b[0;34m\u001b[0m\u001b[0m\n",
      "\u001b[0;31mIndexError\u001b[0m: invalid index to scalar variable."
     ]
    }
   ],
   "source": [
    "score = loaded_model.evaluate(X_test, Y_test, verbose=1)\n",
    "print('Test score:', score[0])\n",
    "print('Test accuracy:', score[1])"
   ]
  },
  {
   "cell_type": "code",
   "execution_count": 16,
   "metadata": {},
   "outputs": [
    {
     "name": "stdout",
     "output_type": "stream",
     "text": [
      "0.751417973832 0.810923607331\n"
     ]
    }
   ],
   "source": [
    "print(score,leo)"
   ]
  },
  {
   "cell_type": "code",
   "execution_count": null,
   "metadata": {
    "collapsed": true
   },
   "outputs": [],
   "source": []
  }
 ],
 "metadata": {
  "kernelspec": {
   "display_name": "Python 3",
   "language": "python",
   "name": "python3"
  },
  "language_info": {
   "codemirror_mode": {
    "name": "ipython",
    "version": 3
   },
   "file_extension": ".py",
   "mimetype": "text/x-python",
   "name": "python",
   "nbconvert_exporter": "python",
   "pygments_lexer": "ipython3",
   "version": "3.6.1"
  }
 },
 "nbformat": 4,
 "nbformat_minor": 2
}
