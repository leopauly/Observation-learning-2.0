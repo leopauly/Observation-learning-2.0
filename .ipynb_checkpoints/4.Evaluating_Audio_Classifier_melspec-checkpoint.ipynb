{
 "cells": [
  {
   "cell_type": "markdown",
   "metadata": {},
   "source": [
    "### Using Pre-trained CNN network for audio classification \n",
    "#### Written by : Leo pauly | leopauly314@gmail.com"
   ]
  },
  {
   "cell_type": "code",
   "execution_count": 10,
   "metadata": {
    "collapsed": true
   },
   "outputs": [],
   "source": [
    "from __future__ import print_function\n",
    "\n",
    "import matplotlib.pyplot as plt\n",
    "import pickle\n",
    "import itertools\n",
    "import numpy as np\n",
    "\n",
    "import keras\n",
    "from keras.models import model_from_json\n",
    "from keras.optimizers import SGD\n",
    "from sklearn.metrics import confusion_matrix,accuracy_score,classification_report"
   ]
  },
  {
   "cell_type": "code",
   "execution_count": 2,
   "metadata": {
    "collapsed": true
   },
   "outputs": [],
   "source": [
    "CLASSES = [\"AC\", \"CH\", \"CP\", \"DB\", \"Dr\", \"EI\", \"GS\", \"Ja\", \"Si\", \"SM\"]\n",
    "np.random.seed(1337)  # for reproducibility"
   ]
  },
  {
   "cell_type": "code",
   "execution_count": 3,
   "metadata": {
    "collapsed": true
   },
   "outputs": [],
   "source": [
    "## Plotting confusion matrix\n",
    "def plot_confusion_matrix(cm, classes,normalize=False,title='Confusion matrix',cmap=plt.cm.Blues):\n",
    "    \"\"\"\n",
    "    This function prints and plots the confusion matrix.\n",
    "    Normalization can be applied by setting `normalize=True`.\n",
    "    \"\"\"\n",
    "    plt.imshow(cm, interpolation='nearest', cmap=cmap)\n",
    "    plt.title(title)\n",
    "    plt.colorbar()\n",
    "    tick_marks = np.arange(len(classes))\n",
    "    plt.xticks(tick_marks, classes, rotation=45)\n",
    "    plt.yticks(tick_marks, classes)\n",
    "\n",
    "    if normalize:\n",
    "        cm = cm.astype('float') / cm.sum(axis=1)[:, np.newaxis]\n",
    "        print(\"Normalized confusion matrix\")\n",
    "    else:\n",
    "        print('Confusion matrix, without normalization')\n",
    "\n",
    "    thresh = cm.max() / 2.\n",
    "    for i, j in itertools.product(range(cm.shape[0]), range(cm.shape[1])):\n",
    "        plt.text(j, i, cm[i, j],\n",
    "                 horizontalalignment=\"center\",\n",
    "                 color=\"white\" if cm[i, j] > thresh else \"black\")\n",
    "\n",
    "    plt.tight_layout()\n",
    "    plt.ylabel('True label')\n",
    "    plt.xlabel('Predicted label')\n",
    "    plt.show()"
   ]
  },
  {
   "cell_type": "code",
   "execution_count": 4,
   "metadata": {},
   "outputs": [
    {
     "name": "stdout",
     "output_type": "stream",
     "text": [
      "Pretrained audio classifier model loaded!\n"
     ]
    }
   ],
   "source": [
    "## Loading model\n",
    "json_file = open(\"/nobackup/leopauly/S2LStage2/logdir_0/audio_classifier_0.json\", 'r')\n",
    "#json_file = open(\"/nobackup/leopauly/S2LStage2/model.keras.json\", 'r')\n",
    "loaded_model_json = json_file.read()\n",
    "json_file.close()\n",
    "loaded_model = model_from_json(loaded_model_json)\n",
    "loaded_model.load_weights(\"/nobackup/leopauly/S2LStage2/logdir_0/audio_classifier_0.h5\")\n",
    "#loaded_model.load_weights(\"/nobackup/leopauly/S2LStage2/model.keras.h5\")\n",
    "\n",
    "sgd = SGD(lr=0.01, decay=1e-6, momentum=0.9, nesterov=True)\n",
    "loaded_model.compile(loss='sparse_categorical_crossentropy',optimizer='adadelta',metrics=['accuracy'])\n",
    "print('Pretrained audio classifier model loaded!')"
   ]
  },
  {
   "cell_type": "code",
   "execution_count": 5,
   "metadata": {},
   "outputs": [
    {
     "name": "stdout",
     "output_type": "stream",
     "text": [
      "Start loading data\n",
      "Data loaded\n"
     ]
    }
   ],
   "source": [
    "## Getting data\n",
    "print(\"Start loading data\")\n",
    "\n",
    "fd = open(\"/nobackup/leopauly/UrabanSound8k_Stored_mfcc/data_x_librosa_train_1.pkl\", 'rb')\n",
    "fd2 = open(\"/nobackup/leopauly/UrabanSound8k_Stored_mfcc/data_y_librosa_train_1.pkl\", 'rb')\n",
    "features = pickle.load(fd,encoding='bytes')\n",
    "labels = pickle.load(fd2,encoding='bytes')\n",
    "\n",
    "print(\"Data loaded\")\n",
    "\n",
    "p_train = 0.8\n",
    "\n",
    "rnd_indices = np.random.rand(len(labels)) < p_train\n",
    "\n",
    "X_train = features[rnd_indices]\n",
    "Y_train = labels[rnd_indices]\n",
    "X_test = features[~rnd_indices]\n",
    "Y_test = labels[~rnd_indices]\n",
    "\n",
    "X_train = X_train.astype('float32')\n",
    "X_test = X_test.astype('float32')\n",
    "X_train /= 255\n",
    "X_test /= 255\n",
    "\n",
    "\n",
    "## FIX FOR KERAS\n",
    "# Y_train = Y_train.reshape((-1, 1))\n",
    "Y_test = Y_test.reshape((-1, 1))\n"
   ]
  },
  {
   "cell_type": "code",
   "execution_count": 6,
   "metadata": {},
   "outputs": [
    {
     "name": "stdout",
     "output_type": "stream",
     "text": [
      "[ True  True  True ...,  True  True False]\n",
      "[5 5 5 ..., 2 2 2]\n"
     ]
    }
   ],
   "source": [
    "rnd_indices = np.random.rand(len(labels)) < p_train\n",
    "print(rnd_indices)\n",
    "print(Y_train)"
   ]
  },
  {
   "cell_type": "code",
   "execution_count": 7,
   "metadata": {},
   "outputs": [
    {
     "name": "stdout",
     "output_type": "stream",
     "text": [
      "10528/11022 [===========================>..] - ETA: 1sConfusion matrix, without normalization\n"
     ]
    },
    {
     "data": {
      "image/png": "[encoded data removed]",
      "text/plain": [
       "<matplotlib.figure.Figure at 0x2b05ab667b70>"
      ]
     },
     "metadata": {},
     "output_type": "display_data"
    },
    {
     "name": "stdout",
     "output_type": "stream",
     "text": [
      "Got Predictions:  11022\n",
      "Result:  6937  on  11022  ->  0.6293776084195246\n"
     ]
    }
   ],
   "source": [
    "## FIX FOR KERAS\n",
    "# labels = labels.reshape((-1, 1))\n",
    "\n",
    "## Prediction\n",
    "predictions = loaded_model.predict_classes(X_test)\n",
    "\n",
    "plot_confusion_matrix( cm=confusion_matrix(Y_test, predictions) , classes=CLASSES)\n",
    "\n",
    "right = 0\n",
    "total = 0\n",
    "\n",
    "for idx in range(len(predictions)):\n",
    "    if (predictions[idx] == Y_test[idx]):\n",
    "        right += 1\n",
    "    total += 1\n",
    "\n",
    "## Decode and display prediction\n",
    "print(\"Got Predictions: \", len(predictions))\n",
    "\n",
    "print (\"Result: \", str(right), \" on \", str(total), \" -> \", str( ( (right * 1.0) / total ) ))\n"
   ]
  },
  {
   "cell_type": "code",
   "execution_count": 8,
   "metadata": {},
   "outputs": [
    {
     "data": {
      "text/plain": [
       "0.62937760841952461"
      ]
     },
     "execution_count": 8,
     "metadata": {},
     "output_type": "execute_result"
    }
   ],
   "source": [
    "accuracy_score(Y_test, predictions, normalize=True, sample_weight=None)"
   ]
  },
  {
   "cell_type": "raw",
   "metadata": {
    "collapsed": true
   },
   "source": [
    "predictions = loaded_model.predict_classes(X_test)\n",
    "confusion_matrix(Y_test, predictions)"
   ]
  },
  {
   "cell_type": "code",
   "execution_count": 12,
   "metadata": {
    "scrolled": true
   },
   "outputs": [
    {
     "name": "stdout",
     "output_type": "stream",
     "text": [
      "             precision    recall  f1-score   support\n",
      "\n",
      "          0       0.73      0.58      0.65      1423\n",
      "          1       0.94      0.68      0.79       363\n",
      "          2       0.49      0.61      0.54      1375\n",
      "          3       0.76      0.64      0.70      1093\n",
      "          4       0.48      0.81      0.60      1199\n",
      "          5       0.76      0.62      0.68      1410\n",
      "          6       0.98      0.55      0.70       175\n",
      "          7       0.75      0.23      0.35      1267\n",
      "          8       0.63      0.95      0.75      1311\n",
      "          9       0.63      0.60      0.62      1406\n",
      "\n",
      "avg / total       0.67      0.63      0.62     11022\n",
      "\n"
     ]
    }
   ],
   "source": [
    "print(classification_report(Y_test, predictions))"
   ]
  },
  {
   "cell_type": "code",
   "execution_count": 13,
   "metadata": {},
   "outputs": [
    {
     "name": "stdout",
     "output_type": "stream",
     "text": [
      "(54154,)\n"
     ]
    }
   ],
   "source": [
    "print(labels.shape)"
   ]
  },
  {
   "cell_type": "code",
   "execution_count": 14,
   "metadata": {},
   "outputs": [
    {
     "name": "stdout",
     "output_type": "stream",
     "text": [
      "(54154, 40, 40, 3)\n"
     ]
    }
   ],
   "source": [
    "print(features.shape)"
   ]
  },
  {
   "cell_type": "code",
   "execution_count": null,
   "metadata": {
    "collapsed": true
   },
   "outputs": [],
   "source": []
  }
 ],
 "metadata": {
  "kernelspec": {
   "display_name": "Python 3",
   "language": "python",
   "name": "python3"
  },
  "language_info": {
   "codemirror_mode": {
    "name": "ipython",
    "version": 3
   },
   "file_extension": ".py",
   "mimetype": "text/x-python",
   "name": "python",
   "nbconvert_exporter": "python",
   "pygments_lexer": "ipython3",
   "version": "3.6.1"
  }
 },
 "nbformat": 4,
 "nbformat_minor": 2
}
